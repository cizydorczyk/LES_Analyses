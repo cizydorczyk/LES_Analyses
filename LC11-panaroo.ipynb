{
 "cells": [
  {
   "cell_type": "code",
   "execution_count": 3,
   "id": "5335eb48",
   "metadata": {},
   "outputs": [],
   "source": [
    "cd /home/conrad/les_complete/pangenome_analyses/LC11-panaroo"
   ]
  },
  {
   "cell_type": "code",
   "execution_count": null,
   "id": "c69d945c",
   "metadata": {},
   "outputs": [],
   "source": [
    "# Format additional LES gffs\n",
    "# Previous gffs were formatted in a similar way\n",
    "\n",
    "for i in $(cat ~/les_complete/public_genomes/LC10-additional-public-les/additional-public-les-list.txt); do python ~/python_scripts/phd/F20_format_gff_for_pirate.py --input_gff ~/les_complete/public_genomes/LC10-additional-public-les/bakta-unicycler/${i}/${i}.gff3 --fasta ~/les_complete/public_genomes/LC10-additional-public-les/bakta-unicycler/${i}/${i}.fna --output_gff LC11-panaroo/formatted-gff/${i}.gff; done"
   ]
  },
  {
   "cell_type": "code",
   "execution_count": null,
   "id": "d0b725a6",
   "metadata": {},
   "outputs": [],
   "source": [
    "# Activate conda environment:\n",
    "conda activate panaroo-env"
   ]
  },
  {
   "cell_type": "code",
   "execution_count": null,
   "id": "fc1d1c69",
   "metadata": {},
   "outputs": [],
   "source": [
    "# Run Panaroo:\n",
    "panaroo -i panaroo-fofn.txt --core_threshold 0.999 -t 7 --threshold 0.98 --len_dif_percent 0.98 --remove-invalid-genes -o ./ --clean-mode strict"
   ]
  }
 ],
 "metadata": {
  "kernelspec": {
   "display_name": "Bash",
   "language": "bash",
   "name": "bash"
  },
  "language_info": {
   "codemirror_mode": "shell",
   "file_extension": ".sh",
   "mimetype": "text/x-sh",
   "name": "bash"
  }
 },
 "nbformat": 4,
 "nbformat_minor": 5
}
