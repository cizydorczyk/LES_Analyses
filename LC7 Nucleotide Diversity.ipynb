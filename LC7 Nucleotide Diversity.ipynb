{
 "cells": [
  {
   "cell_type": "code",
   "execution_count": 2,
   "id": "4ceb5c3a",
   "metadata": {},
   "outputs": [
    {
     "name": "stdout",
     "output_type": "stream",
     "text": [
      "(i18_snp_pipeline_env_testing) \n",
      "/home/conrad/les_complete/LC7-nucleotide-diversity\n",
      "(i18_snp_pipeline_env_testing) \n"
     ]
    },
    {
     "ename": "",
     "evalue": "1",
     "output_type": "error",
     "traceback": []
    }
   ],
   "source": [
    "conda activate i18_snp_pipeline_env_testing\n",
    "pwd"
   ]
  },
  {
   "cell_type": "code",
   "execution_count": 4,
   "id": "a7b433c2",
   "metadata": {},
   "outputs": [
    {
     "name": "stdout",
     "output_type": "stream",
     "text": [
      "(i18_snp_pipeline_env_testing) \n",
      "(i18_snp_pipeline_env_testing) \n"
     ]
    },
    {
     "ename": "",
     "evalue": "1",
     "output_type": "error",
     "traceback": []
    }
   ],
   "source": [
    "# Generate VCF from snippy-core full alignment:\n",
    "snp-sites -v -b -o LES.vcf ~/les_complete/snp_calling/L3-snp-calling/snippy-core/LES.without_outgroups.clean.full.aln"
   ]
  },
  {
   "cell_type": "code",
   "execution_count": 5,
   "id": "ad80fe0e",
   "metadata": {},
   "outputs": [
    {
     "name": "stdout",
     "output_type": "stream",
     "text": [
      "(i18_snp_pipeline_env_testing) \n",
      "(i18_snp_pipeline_env_testing) \n"
     ]
    },
    {
     "ename": "",
     "evalue": "1",
     "output_type": "error",
     "traceback": []
    }
   ],
   "source": [
    "# Reformat VCF alignment using python script:\n",
    "python ~/python_scripts/2phd/LC7_filter_snpsites_vcf.py -i LES.vcf -o LES-formatted.vcf"
   ]
  },
  {
   "cell_type": "code",
   "execution_count": 6,
   "id": "d816b6f1",
   "metadata": {},
   "outputs": [
    {
     "name": "stdout",
     "output_type": "stream",
     "text": [
      "(i18_snp_pipeline_env_testing) \n",
      "(i18_snp_pipeline_env_testing) \n"
     ]
    },
    {
     "ename": "",
     "evalue": "1",
     "output_type": "error",
     "traceback": []
    }
   ],
   "source": [
    "# Remove unformatted VCF due to size:\n",
    "rm LES.vcf"
   ]
  },
  {
   "cell_type": "code",
   "execution_count": 7,
   "id": "85c19b40",
   "metadata": {},
   "outputs": [
    {
     "name": "stdout",
     "output_type": "stream",
     "text": [
      "(i18_snp_pipeline_env_testing) \n",
      "(base) \n",
      "(pixy-env) \n",
      "(pixy-env) \n",
      "(pixy-env) \n",
      "(pixy-env) \n",
      "tbx_index_build failed: LES.formatted.vcf.gz\n",
      "(pixy-env) \n"
     ]
    },
    {
     "ename": "",
     "evalue": "1",
     "output_type": "error",
     "traceback": []
    }
   ],
   "source": [
    "# Prep formatted VCF for pixy:\n",
    "conda deactivate\n",
    "conda activate pixy-env\n",
    "\n",
    "bgzip LES-formatted.vcf\n",
    "\n",
    "tabix LES-formatted.vcf.gz"
   ]
  },
  {
   "cell_type": "code",
   "execution_count": 10,
   "id": "1301e26b",
   "metadata": {},
   "outputs": [
    {
     "name": "stdout",
     "output_type": "stream",
     "text": [
      "(pixy-env) \n",
      "[pixy] pixy 1.2.6.beta1\n",
      "[pixy] See documentation at https://pixy.readthedocs.io/en/latest/\n",
      "\n",
      "[pixy] Validating VCF and input parameters...\n",
      "[pixy] Checking write access...OK\n",
      "[pixy] Checking CPU configuration...OK\n",
      "[pixy] Checking for invariant sites...OK\n",
      "[pixy] Checking chromosome data...OK\n",
      "[pixy] Checking intervals/sites...OK\n",
      "[pixy] Checking sample data...OK\n",
      "[pixy] All initial checks past!\n",
      "\n",
      "[pixy] Preparing for calculation of summary statistics: pi, dxy, fst\n",
      "[pixy] Using Weir and Cockerham (1984)'s estimator of FST.\n",
      "[pixy] Data set contains 2 population(s), 1 chromosome(s), and 206 sample(s)\n",
      "[pixy] Window size: 6601757 bp\n",
      "\n",
      "[pixy] Started calculations at 20:05:23 on 2023-06-03\n",
      "[pixy] Using 6 out of 8 available CPU cores\n",
      "\n",
      "[pixy] Processing chromosome/contig 1...\n",
      "[pixy] Calculating statistics for region 1:1-6601757...\n",
      "\n",
      "[pixy] All calculations complete at 20:06:22 on 2023-06-03\n",
      "[pixy] Time elapsed: 00:00:58\n",
      "[pixy] Output files written to: ./canada-vs-uk//\n",
      "\n",
      "[pixy] If you use pixy in your research, please cite the following paper:\n",
      "[pixy] Korunes, KL and K Samuk. pixy: Unbiased estimation of nucleotide diversity and divergence in the presence of missing data. Mol Ecol Resour. 2021 Jan 16. doi: 10.1111/1755-0998.13326.\n",
      "(pixy-env) \n"
     ]
    },
    {
     "ename": "",
     "evalue": "1",
     "output_type": "error",
     "traceback": []
    }
   ],
   "source": [
    "# Calculate pixy stats for Canada vs. UK:\n",
    "pixy --stats pi dxy fst --vcf LES-formatted.vcf.gz --populations canada-vs-uk-populations.txt --window_size 6601757 --n_cores 6 --output_folder ./canada-vs-uk/ --output_prefix canada-vs-uk "
   ]
  },
  {
   "cell_type": "code",
   "execution_count": 11,
   "id": "39ed293c",
   "metadata": {},
   "outputs": [
    {
     "name": "stdout",
     "output_type": "stream",
     "text": [
      "(pixy-env) \n",
      "[pixy] pixy 1.2.6.beta1\n",
      "[pixy] See documentation at https://pixy.readthedocs.io/en/latest/\n",
      "\n",
      "[pixy] Validating VCF and input parameters...\n",
      "[pixy] Checking write access...OK\n",
      "[pixy] Checking CPU configuration...OK\n",
      "[pixy] Checking for invariant sites...OK\n",
      "[pixy] Checking chromosome data...OK\n",
      "[pixy] Checking intervals/sites...OK\n",
      "[pixy] Checking sample data...OK\n",
      "[pixy] All initial checks past!\n",
      "\n",
      "[pixy] Preparing for calculation of summary statistics: pi, dxy, fst\n",
      "[pixy] Using Weir and Cockerham (1984)'s estimator of FST.\n",
      "[pixy] Data set contains 3 population(s), 1 chromosome(s), and 206 sample(s)\n",
      "[pixy] Window size: 6601757 bp\n",
      "\n",
      "[pixy] Started calculations at 20:08:47 on 2023-06-03\n",
      "[pixy] Using 6 out of 8 available CPU cores\n",
      "\n",
      "[pixy] Processing chromosome/contig 1...\n",
      "[pixy] Calculating statistics for region 1:1-6601757...\n",
      "\n",
      "[pixy] All calculations complete at 20:10:00 on 2023-06-03\n",
      "[pixy] Time elapsed: 00:01:12\n",
      "[pixy] Output files written to: ./canada-split-vs-uk//\n",
      "\n",
      "[pixy] If you use pixy in your research, please cite the following paper:\n",
      "[pixy] Korunes, KL and K Samuk. pixy: Unbiased estimation of nucleotide diversity and divergence in the presence of missing data. Mol Ecol Resour. 2021 Jan 16. doi: 10.1111/1755-0998.13326.\n",
      "(pixy-env) \n"
     ]
    },
    {
     "ename": "",
     "evalue": "1",
     "output_type": "error",
     "traceback": []
    }
   ],
   "source": [
    "# Calculate pixy stats for Canada split (deep branching clade & rest) vs UK:\n",
    "pixy --stats pi dxy fst --vcf LES-formatted.vcf.gz --populations canada-split-vs-uk-populations.txt --window_size 6601757 --n_cores 6 --output_folder ./canada-split-vs-uk/ --output_prefix canada-split-vs-uk"
   ]
  },
  {
   "cell_type": "code",
   "execution_count": 12,
   "id": "752ca284",
   "metadata": {},
   "outputs": [
    {
     "name": "stdout",
     "output_type": "stream",
     "text": [
      "(pixy-env) \n",
      "[pixy] pixy 1.2.6.beta1\n",
      "[pixy] See documentation at https://pixy.readthedocs.io/en/latest/\n",
      "\n",
      "[pixy] Validating VCF and input parameters...\n",
      "[pixy] Checking write access...OK\n",
      "[pixy] Checking CPU configuration...OK\n",
      "[pixy] Checking for invariant sites...OK\n",
      "[pixy] Checking chromosome data...OK\n",
      "[pixy] Checking intervals/sites...OK\n",
      "[pixy] Checking sample data...OK\n",
      "[pixy] All initial checks past!\n",
      "\n",
      "[pixy] Preparing for calculation of summary statistics: pi, dxy, fst\n",
      "[pixy] Using Weir and Cockerham (1984)'s estimator of FST.\n",
      "[pixy] Data set contains 2 population(s), 1 chromosome(s), and 179 sample(s)\n",
      "[pixy] Window size: 6601757 bp\n",
      "\n",
      "[pixy] Started calculations at 20:15:27 on 2023-06-03\n",
      "[pixy] Using 6 out of 8 available CPU cores\n",
      "\n",
      "[pixy] Processing chromosome/contig 1...\n",
      "[pixy] Calculating statistics for region 1:1-6601757...\n",
      "\n",
      "[pixy] All calculations complete at 20:16:26 on 2023-06-03\n",
      "[pixy] Time elapsed: 00:00:59\n",
      "[pixy] Output files written to: ./mutators-removed-canada-vs-uk//\n",
      "\n",
      "[pixy] If you use pixy in your research, please cite the following paper:\n",
      "[pixy] Korunes, KL and K Samuk. pixy: Unbiased estimation of nucleotide diversity and divergence in the presence of missing data. Mol Ecol Resour. 2021 Jan 16. doi: 10.1111/1755-0998.13326.\n",
      "(pixy-env) \n"
     ]
    },
    {
     "ename": "",
     "evalue": "1",
     "output_type": "error",
     "traceback": []
    }
   ],
   "source": [
    "# Calculate pixy stats for Canada vs. UK *without* hypermutators:\n",
    "pixy --stats pi dxy fst --vcf LES-formatted.vcf.gz --populations mutators-removed-canada-vs-uk-populations.txt --window_size 6601757 --n_cores 6 --output_folder ./mutators-removed-canada-vs-uk/ --output_prefix mutators-removed-canada-vs-uk "
   ]
  },
  {
   "cell_type": "code",
   "execution_count": 13,
   "id": "b55105c5",
   "metadata": {},
   "outputs": [
    {
     "name": "stdout",
     "output_type": "stream",
     "text": [
      "(pixy-env) \n",
      "[pixy] pixy 1.2.6.beta1\n",
      "[pixy] See documentation at https://pixy.readthedocs.io/en/latest/\n",
      "\n",
      "[pixy] Validating VCF and input parameters...\n",
      "[pixy] Checking write access...OK\n",
      "[pixy] Checking CPU configuration...OK\n",
      "[pixy] Checking for invariant sites...OK\n",
      "[pixy] Checking chromosome data...OK\n",
      "[pixy] Checking intervals/sites...OK\n",
      "[pixy] Checking sample data...OK\n",
      "[pixy] All initial checks past!\n",
      "\n",
      "[pixy] Preparing for calculation of summary statistics: pi, dxy, fst\n",
      "[pixy] Using Weir and Cockerham (1984)'s estimator of FST.\n",
      "[pixy] Data set contains 3 population(s), 1 chromosome(s), and 179 sample(s)\n",
      "[pixy] Window size: 6601757 bp\n",
      "\n",
      "[pixy] Started calculations at 20:17:12 on 2023-06-03\n",
      "[pixy] Using 6 out of 8 available CPU cores\n",
      "\n",
      "[pixy] Processing chromosome/contig 1...\n",
      "[pixy] Calculating statistics for region 1:1-6601757...\n",
      "\n",
      "[pixy] All calculations complete at 20:18:25 on 2023-06-03\n",
      "[pixy] Time elapsed: 00:01:13\n",
      "[pixy] Output files written to: ./mutators-removed-canada-split-vs-uk//\n",
      "\n",
      "[pixy] If you use pixy in your research, please cite the following paper:\n",
      "[pixy] Korunes, KL and K Samuk. pixy: Unbiased estimation of nucleotide diversity and divergence in the presence of missing data. Mol Ecol Resour. 2021 Jan 16. doi: 10.1111/1755-0998.13326.\n",
      "(pixy-env) \n"
     ]
    },
    {
     "ename": "",
     "evalue": "1",
     "output_type": "error",
     "traceback": []
    }
   ],
   "source": [
    "# Calculate pixy stats for Canada split vs. UK *without* hypermutators:\n",
    "pixy --stats pi dxy fst --vcf LES-formatted.vcf.gz --populations mutators-removed-canada-split-vs-uk-populations.txt --window_size 6601757 --n_cores 6 --output_folder ./mutators-removed-canada-split-vs-uk/ --output_prefix mutators-removed-canada-split-vs-uk "
   ]
  },
  {
   "cell_type": "code",
   "execution_count": null,
   "id": "8b940205",
   "metadata": {},
   "outputs": [],
   "source": []
  }
 ],
 "metadata": {
  "kernelspec": {
   "display_name": "Bash",
   "language": "bash",
   "name": "bash"
  },
  "language_info": {
   "codemirror_mode": "shell",
   "file_extension": ".sh",
   "mimetype": "text/x-sh",
   "name": "bash"
  }
 },
 "nbformat": 4,
 "nbformat_minor": 5
}
